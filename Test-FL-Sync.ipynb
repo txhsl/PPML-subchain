{
 "cells": [
  {
   "cell_type": "code",
   "execution_count": null,
   "metadata": {
    "scrolled": false
   },
   "outputs": [
    {
     "name": "stdout",
     "output_type": "stream",
     "text": [
      "the size of train: 65328, dev:872, test:2021\n",
      "train.fields: {'text': <torchtext.data.field.Field object at 0x000001562E611D00>, 'label': <torchtext.data.field.Field object at 0x000001562E6490A0>} torch.Size([14795, 50])\n",
      "height=1,测试准确率=0.50390625\n",
      "height=2,测试准确率=0.50390625\n",
      "height=3,测试准确率=0.53125\n",
      "height=4,测试准确率=0.580078125\n",
      "height=5,测试准确率=0.505859375\n",
      "height=6,测试准确率=0.49609375\n",
      "height=7,测试准确率=0.49609375\n",
      "height=8,测试准确率=0.49609375\n",
      "height=9,测试准确率=0.49609375\n",
      "height=10,测试准确率=0.49609375\n",
      "height=11,测试准确率=0.49609375\n",
      "height=12,测试准确率=0.49609375\n",
      "height=13,测试准确率=0.49609375\n",
      "height=14,测试准确率=0.49609375\n",
      "height=15,测试准确率=0.49609375\n",
      "height=16,测试准确率=0.49609375\n",
      "height=17,测试准确率=0.49609375\n",
      "height=18,测试准确率=0.498046875\n",
      "height=19,测试准确率=0.501953125\n",
      "height=20,测试准确率=0.513671875\n",
      "height=21,测试准确率=0.537109375\n",
      "height=22,测试准确率=0.607421875\n",
      "height=23,测试准确率=0.666015625\n",
      "height=24,测试准确率=0.69140625\n",
      "height=25,测试准确率=0.7109375\n",
      "height=26,测试准确率=0.728515625\n",
      "height=27,测试准确率=0.74609375\n",
      "height=28,测试准确率=0.76953125\n",
      "height=29,测试准确率=0.779296875\n",
      "height=30,测试准确率=0.783203125\n",
      "height=31,测试准确率=0.794921875\n",
      "height=32,测试准确率=0.791015625\n",
      "height=33,测试准确率=0.796875\n",
      "height=34,测试准确率=0.810546875\n",
      "height=35,测试准确率=0.8203125\n",
      "height=36,测试准确率=0.818359375\n",
      "height=37,测试准确率=0.80859375\n",
      "height=38,测试准确率=0.810546875\n",
      "height=39,测试准确率=0.80859375\n",
      "height=40,测试准确率=0.818359375\n"
     ]
    }
   ],
   "source": [
    "from subchain_sync import Subchain\n",
    "\n",
    "test = Subchain(4, 16)\n",
    "network = [[0,1,2,3], [4,5,6,7], [8,9,10,11], [12,13,14,15]]\n",
    "test.run(network)"
   ]
  },
  {
   "cell_type": "code",
   "execution_count": null,
   "metadata": {},
   "outputs": [],
   "source": []
  }
 ],
 "metadata": {
  "kernelspec": {
   "display_name": "Python 3",
   "language": "python",
   "name": "python3"
  },
  "language_info": {
   "codemirror_mode": {
    "name": "ipython",
    "version": 3
   },
   "file_extension": ".py",
   "mimetype": "text/x-python",
   "name": "python",
   "nbconvert_exporter": "python",
   "pygments_lexer": "ipython3",
   "version": "3.8.5"
  }
 },
 "nbformat": 4,
 "nbformat_minor": 4
}
